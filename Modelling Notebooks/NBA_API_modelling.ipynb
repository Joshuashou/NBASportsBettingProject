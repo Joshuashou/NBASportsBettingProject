{
 "cells": [
  {
   "cell_type": "code",
   "execution_count": 1,
   "metadata": {},
   "outputs": [],
   "source": [
    "import pandas as pd"
   ]
  },
  {
   "cell_type": "code",
   "execution_count": 4,
   "metadata": {},
   "outputs": [
    {
     "data": {
      "text/html": [
       "<div>\n",
       "<style scoped>\n",
       "    .dataframe tbody tr th:only-of-type {\n",
       "        vertical-align: middle;\n",
       "    }\n",
       "\n",
       "    .dataframe tbody tr th {\n",
       "        vertical-align: top;\n",
       "    }\n",
       "\n",
       "    .dataframe thead th {\n",
       "        text-align: right;\n",
       "    }\n",
       "</style>\n",
       "<table border=\"1\" class=\"dataframe\">\n",
       "  <thead>\n",
       "    <tr style=\"text-align: right;\">\n",
       "      <th></th>\n",
       "      <th>Unnamed: 0</th>\n",
       "      <th>SEASON_ID</th>\n",
       "      <th>TEAM_ID</th>\n",
       "      <th>TEAM_ABBREVIATION</th>\n",
       "      <th>TEAM_NAME</th>\n",
       "      <th>GAME_ID</th>\n",
       "      <th>GAME_DATE</th>\n",
       "      <th>MATCHUP</th>\n",
       "      <th>WL</th>\n",
       "      <th>MIN</th>\n",
       "      <th>...</th>\n",
       "      <th>FT_PCT</th>\n",
       "      <th>OREB</th>\n",
       "      <th>DREB</th>\n",
       "      <th>REB</th>\n",
       "      <th>AST</th>\n",
       "      <th>STL</th>\n",
       "      <th>BLK</th>\n",
       "      <th>TOV</th>\n",
       "      <th>PF</th>\n",
       "      <th>PLUS_MINUS</th>\n",
       "    </tr>\n",
       "  </thead>\n",
       "  <tbody>\n",
       "    <tr>\n",
       "      <th>0</th>\n",
       "      <td>0</td>\n",
       "      <td>22023</td>\n",
       "      <td>1610612751</td>\n",
       "      <td>BKN</td>\n",
       "      <td>Brooklyn Nets</td>\n",
       "      <td>22300417</td>\n",
       "      <td>2023-12-27</td>\n",
       "      <td>BKN vs. MIL</td>\n",
       "      <td>NaN</td>\n",
       "      <td>121</td>\n",
       "      <td>...</td>\n",
       "      <td>0.923</td>\n",
       "      <td>6</td>\n",
       "      <td>14</td>\n",
       "      <td>20</td>\n",
       "      <td>14</td>\n",
       "      <td>5</td>\n",
       "      <td>1</td>\n",
       "      <td>3</td>\n",
       "      <td>7</td>\n",
       "      <td>-7.0</td>\n",
       "    </tr>\n",
       "    <tr>\n",
       "      <th>1</th>\n",
       "      <td>1</td>\n",
       "      <td>22023</td>\n",
       "      <td>1612709928</td>\n",
       "      <td>CCG</td>\n",
       "      <td>Capital City Go-Go</td>\n",
       "      <td>2022300004</td>\n",
       "      <td>2023-12-27</td>\n",
       "      <td>CCG @ DEL</td>\n",
       "      <td>NaN</td>\n",
       "      <td>190</td>\n",
       "      <td>...</td>\n",
       "      <td>0.900</td>\n",
       "      <td>8</td>\n",
       "      <td>25</td>\n",
       "      <td>33</td>\n",
       "      <td>20</td>\n",
       "      <td>9</td>\n",
       "      <td>1</td>\n",
       "      <td>9</td>\n",
       "      <td>16</td>\n",
       "      <td>-17.4</td>\n",
       "    </tr>\n",
       "    <tr>\n",
       "      <th>2</th>\n",
       "      <td>2</td>\n",
       "      <td>22023</td>\n",
       "      <td>1612709910</td>\n",
       "      <td>IMA</td>\n",
       "      <td>Indiana Mad Ants</td>\n",
       "      <td>2022300003</td>\n",
       "      <td>2023-12-27</td>\n",
       "      <td>IMA vs. MHU</td>\n",
       "      <td>W</td>\n",
       "      <td>240</td>\n",
       "      <td>...</td>\n",
       "      <td>0.850</td>\n",
       "      <td>14</td>\n",
       "      <td>31</td>\n",
       "      <td>45</td>\n",
       "      <td>35</td>\n",
       "      <td>6</td>\n",
       "      <td>4</td>\n",
       "      <td>9</td>\n",
       "      <td>25</td>\n",
       "      <td>5.6</td>\n",
       "    </tr>\n",
       "    <tr>\n",
       "      <th>3</th>\n",
       "      <td>3</td>\n",
       "      <td>22023</td>\n",
       "      <td>1612709915</td>\n",
       "      <td>MNE</td>\n",
       "      <td>Maine Celtics</td>\n",
       "      <td>2022300001</td>\n",
       "      <td>2023-12-27</td>\n",
       "      <td>MNE @ OKL</td>\n",
       "      <td>W</td>\n",
       "      <td>241</td>\n",
       "      <td>...</td>\n",
       "      <td>0.909</td>\n",
       "      <td>16</td>\n",
       "      <td>39</td>\n",
       "      <td>55</td>\n",
       "      <td>27</td>\n",
       "      <td>10</td>\n",
       "      <td>6</td>\n",
       "      <td>12</td>\n",
       "      <td>19</td>\n",
       "      <td>3.4</td>\n",
       "    </tr>\n",
       "    <tr>\n",
       "      <th>4</th>\n",
       "      <td>4</td>\n",
       "      <td>22023</td>\n",
       "      <td>1612709923</td>\n",
       "      <td>WCB</td>\n",
       "      <td>Windy City Bulls</td>\n",
       "      <td>2022300006</td>\n",
       "      <td>2023-12-27</td>\n",
       "      <td>WCB @ MCC</td>\n",
       "      <td>NaN</td>\n",
       "      <td>180</td>\n",
       "      <td>...</td>\n",
       "      <td>0.800</td>\n",
       "      <td>4</td>\n",
       "      <td>26</td>\n",
       "      <td>30</td>\n",
       "      <td>14</td>\n",
       "      <td>9</td>\n",
       "      <td>2</td>\n",
       "      <td>8</td>\n",
       "      <td>16</td>\n",
       "      <td>-13.4</td>\n",
       "    </tr>\n",
       "  </tbody>\n",
       "</table>\n",
       "<p>5 rows × 29 columns</p>\n",
       "</div>"
      ],
      "text/plain": [
       "   Unnamed: 0  SEASON_ID     TEAM_ID TEAM_ABBREVIATION           TEAM_NAME  \\\n",
       "0           0      22023  1610612751               BKN       Brooklyn Nets   \n",
       "1           1      22023  1612709928               CCG  Capital City Go-Go   \n",
       "2           2      22023  1612709910               IMA    Indiana Mad Ants   \n",
       "3           3      22023  1612709915               MNE       Maine Celtics   \n",
       "4           4      22023  1612709923               WCB    Windy City Bulls   \n",
       "\n",
       "      GAME_ID   GAME_DATE      MATCHUP   WL  MIN  ...  FT_PCT  OREB  DREB  \\\n",
       "0    22300417  2023-12-27  BKN vs. MIL  NaN  121  ...   0.923     6    14   \n",
       "1  2022300004  2023-12-27    CCG @ DEL  NaN  190  ...   0.900     8    25   \n",
       "2  2022300003  2023-12-27  IMA vs. MHU    W  240  ...   0.850    14    31   \n",
       "3  2022300001  2023-12-27    MNE @ OKL    W  241  ...   0.909    16    39   \n",
       "4  2022300006  2023-12-27    WCB @ MCC  NaN  180  ...   0.800     4    26   \n",
       "\n",
       "   REB  AST  STL  BLK  TOV  PF  PLUS_MINUS  \n",
       "0   20   14    5    1    3   7        -7.0  \n",
       "1   33   20    9    1    9  16       -17.4  \n",
       "2   45   35    6    4    9  25         5.6  \n",
       "3   55   27   10    6   12  19         3.4  \n",
       "4   30   14    9    2    8  16       -13.4  \n",
       "\n",
       "[5 rows x 29 columns]"
      ]
     },
     "execution_count": 4,
     "metadata": {},
     "output_type": "execute_result"
    }
   ],
   "source": [
    "nba_games = pd.read_csv('../Datasets/NBA_API_Games.csv')\n",
    "\n",
    "nba_games.head(5)"
   ]
  },
  {
   "cell_type": "code",
   "execution_count": 5,
   "metadata": {},
   "outputs": [
    {
     "data": {
      "text/plain": [
       "Index(['Unnamed: 0', 'SEASON_ID', 'TEAM_ID', 'TEAM_ABBREVIATION', 'TEAM_NAME',\n",
       "       'GAME_ID', 'GAME_DATE', 'MATCHUP', 'WL', 'MIN', 'PTS', 'FGM', 'FGA',\n",
       "       'FG_PCT', 'FG3M', 'FG3A', 'FG3_PCT', 'FTM', 'FTA', 'FT_PCT', 'OREB',\n",
       "       'DREB', 'REB', 'AST', 'STL', 'BLK', 'TOV', 'PF', 'PLUS_MINUS'],\n",
       "      dtype='object')"
      ]
     },
     "execution_count": 5,
     "metadata": {},
     "output_type": "execute_result"
    }
   ],
   "source": [
    "nba_games.columns"
   ]
  },
  {
   "cell_type": "code",
   "execution_count": 8,
   "metadata": {},
   "outputs": [
    {
     "data": {
      "text/plain": [
       "(13714, 29)"
      ]
     },
     "execution_count": 8,
     "metadata": {},
     "output_type": "execute_result"
    }
   ],
   "source": [
    "nba_team_abbreviations = ['CHI','BRK', 'MIA', 'MIL', 'PHI', 'CLE', 'CHO', 'TOR', 'WAS', 'BOS', 'NYK', 'ATL', 'IND', 'DET', 'ORL',\n",
    "                        'PHO', 'GSW', 'UTA', 'MEM', 'DAL', 'DEN', 'LAL', 'LAC', 'MIN', 'POR', 'SAS', 'SAC', 'NOP', 'OKC', 'HOU']\n",
    "\n",
    "\n",
    "nba_games = nba_games.loc[nba_games['TEAM_ABBREVIATION'].isin(nba_team_abbreviations)]\n",
    "\n",
    "nba_games.shape"
   ]
  },
  {
   "cell_type": "code",
   "execution_count": 9,
   "metadata": {},
   "outputs": [
    {
     "data": {
      "text/plain": [
       "'2018-12-29'"
      ]
     },
     "execution_count": 9,
     "metadata": {},
     "output_type": "execute_result"
    }
   ],
   "source": [
    "min(nba_games['GAME_DATE'])"
   ]
  },
  {
   "cell_type": "code",
   "execution_count": 10,
   "metadata": {},
   "outputs": [
    {
     "data": {
      "text/plain": [
       "'2023-12-27'"
      ]
     },
     "execution_count": 10,
     "metadata": {},
     "output_type": "execute_result"
    }
   ],
   "source": [
    "max(nba_games['GAME_DATE'])"
   ]
  },
  {
   "cell_type": "code",
   "execution_count": null,
   "metadata": {},
   "outputs": [],
   "source": [
    "#We want to train and validate  for 2019-2020 season all the way to 2022-2023 season. Then use 2023-2024 as final test. "
   ]
  }
 ],
 "metadata": {
  "kernelspec": {
   "display_name": "SportsBettingProject",
   "language": "python",
   "name": "python3"
  },
  "language_info": {
   "codemirror_mode": {
    "name": "ipython",
    "version": 3
   },
   "file_extension": ".py",
   "mimetype": "text/x-python",
   "name": "python",
   "nbconvert_exporter": "python",
   "pygments_lexer": "ipython3",
   "version": "3.7.6"
  }
 },
 "nbformat": 4,
 "nbformat_minor": 2
}
